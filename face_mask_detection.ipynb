{
 "cells": [
  {
   "cell_type": "code",
   "execution_count": 1,
   "id": "7774f395",
   "metadata": {},
   "outputs": [],
   "source": [
    "import numpy as np\n",
    "import cv2\n",
    "import datetime\n",
    "import pandas as pd\n",
    "import keras\n",
    "import keras.backend as k\n",
    "from keras.preprocessing.image import ImageDataGenerator\n",
    "from keras.layers import Conv2D\n",
    "from keras.layers import SpatialDropout2D\n",
    "from keras.layers import MaxPooling2D\n",
    "from keras.layers import Flatten\n",
    "from keras.layers import Dropout\n",
    "from keras.layers import Dense\n",
    "from keras.models import Sequential,load_model\n",
    "from tensorflow.keras.optimizers import Adam\n",
    "\n",
    "# from keras.preprocessing import image"
   ]
  },
  {
   "cell_type": "code",
   "execution_count": 2,
   "id": "b0f51bf8",
   "metadata": {},
   "outputs": [
    {
     "name": "stdout",
     "output_type": "stream",
     "text": [
      "Found 1314 images belonging to 2 classes.\n",
      "Found 194 images belonging to 2 classes.\n"
     ]
    },
    {
     "name": "stderr",
     "output_type": "stream",
     "text": [
      "<ipython-input-2-f8e6489d3e92>:21: UserWarning: `Model.fit_generator` is deprecated and will be removed in a future version. Please use `Model.fit`, which supports generators.\n",
      "  mdl.save('mymodel.h5',mdl.fit_generator(\n"
     ]
    },
    {
     "name": "stdout",
     "output_type": "stream",
     "text": [
      "Epoch 1/10\n",
      "83/83 [==============================] - 85s 998ms/step - loss: 0.3459 - accuracy: 0.8463 - val_loss: 0.2233 - val_accuracy: 0.9175\n",
      "Epoch 2/10\n",
      "83/83 [==============================] - 52s 629ms/step - loss: 0.1716 - accuracy: 0.9346 - val_loss: 0.3555 - val_accuracy: 0.8918\n",
      "Epoch 3/10\n",
      "83/83 [==============================] - 51s 610ms/step - loss: 0.1325 - accuracy: 0.9536 - val_loss: 0.1515 - val_accuracy: 0.9536\n",
      "Epoch 4/10\n",
      "83/83 [==============================] - 51s 619ms/step - loss: 0.1122 - accuracy: 0.9559 - val_loss: 0.0872 - val_accuracy: 0.9742\n",
      "Epoch 5/10\n",
      "83/83 [==============================] - 51s 614ms/step - loss: 0.0991 - accuracy: 0.9642 - val_loss: 0.1830 - val_accuracy: 0.9330\n",
      "Epoch 6/10\n",
      "83/83 [==============================] - 51s 610ms/step - loss: 0.0885 - accuracy: 0.9703 - val_loss: 0.0899 - val_accuracy: 0.9742\n",
      "Epoch 7/10\n",
      "83/83 [==============================] - 52s 625ms/step - loss: 0.0902 - accuracy: 0.9650 - val_loss: 0.1034 - val_accuracy: 0.9639\n",
      "Epoch 8/10\n",
      "83/83 [==============================] - 49s 585ms/step - loss: 0.0550 - accuracy: 0.9817 - val_loss: 0.0805 - val_accuracy: 0.9742\n",
      "Epoch 9/10\n",
      "83/83 [==============================] - 50s 596ms/step - loss: 0.0505 - accuracy: 0.9833 - val_loss: 0.0825 - val_accuracy: 0.9742\n",
      "Epoch 10/10\n",
      "83/83 [==============================] - 51s 613ms/step - loss: 0.0468 - accuracy: 0.9840 - val_loss: 0.0701 - val_accuracy: 0.9845\n"
     ]
    }
   ],
   "source": [
    "mdl=Sequential()\n",
    "mdl.add(Conv2D(32,(3,3),activation='relu',input_shape=(150,150,3)))\n",
    "mdl.add(MaxPooling2D() )\n",
    "mdl.add(Conv2D(32,(3,3),activation='relu'))\n",
    "mdl.add(MaxPooling2D() )\n",
    "mdl.add(Conv2D(32,(3,3),activation='relu'))\n",
    "mdl.add(MaxPooling2D() )\n",
    "mdl.add(Flatten())\n",
    "mdl.add(Dense(100,activation='relu'))\n",
    "mdl.add(Dense(1,activation='sigmoid'))\n",
    "\n",
    "mdl.compile(optimizer='adam',loss='binary_crossentropy',metrics=['accuracy'])\n",
    "\n",
    "td = ImageDataGenerator(\n",
    "        rescale=1./255,\n",
    "        shear_range=0.2,\n",
    "        zoom_range=0.2,\n",
    "        horizontal_flip=True)\n",
    "\n",
    "\n",
    "mdl.save('mymodel.h5',mdl.fit_generator(\n",
    "td.flow_from_directory('train',target_size=(150,150),batch_size=16 ,class_mode='binary'),epochs=10,\n",
    "        validation_data=ImageDataGenerator(rescale=1./255).flow_from_directory('test',target_size=(150,150),batch_size=32,class_mode='binary')))\n",
    "#To test for individual images"
   ]
  },
  {
   "cell_type": "code",
   "execution_count": null,
   "id": "98e543d2",
   "metadata": {},
   "outputs": [],
   "source": [
    "from keras.models import Sequential,load_model\n",
    "\n",
    "from keras.preprocessing import image\n",
    "mm=load_model('mymodel.h5')\n",
    "\n",
    "cap=cv2.VideoCapture(0)\n",
    "face_cascade=cv2.CascadeClassifier('haarcascade_frontalface_default.xml')\n",
    "\n",
    "while cap.isOpened():\n",
    "    _,img=cap.read()\n",
    "    for(x,y,w,h) in face_cascade.detectMultiScale(img,scaleFactor=1.1,minNeighbors=4):\n",
    "        cv2.imwrite('temp.jpg',img[y:y+h, x:x+w])\n",
    "        ti=image.load_img('temp.jpg',target_size=(150,150,3))\n",
    "        ti=image.img_to_array(ti)\n",
    "        ti=np.expand_dims(ti,axis=0)\n",
    "        pred=mm.predict(ti)[0][0]\n",
    "        if pred==1:\n",
    "            cv2.rectangle(img,(x,y),(x+w,y+h),(0,0,255),3)\n",
    "            cv2.putText(img,'NO MASK',((x+w)//2,y+h+20),cv2.FONT_HERSHEY_SIMPLEX,1,(0,0,255),3)\n",
    "        else:\n",
    "            cv2.rectangle(img,(x,y),(x+w,y+h),(0,255,0),3)\n",
    "            cv2.putText(img,'MASK',((x+w)//2,y+h+20),cv2.FONT_HERSHEY_SIMPLEX,1,(0,255,0),3)\n",
    "        datet=str(datetime.datetime.now())\n",
    "        cv2.putText(img,datet,(400,450),cv2.FONT_HERSHEY_SIMPLEX,0.5,(255,255,255),1)\n",
    "          \n",
    "    cv2.imshow('LIVE',img)\n",
    "    \n",
    "    if cv2.waitKey(1)==ord('q'):\n",
    "        break\n",
    "    \n",
    "cap.release()\n",
    "cv2.destroyAllWindows()"
   ]
  },
  {
   "cell_type": "code",
   "execution_count": null,
   "id": "a3b1bc1f",
   "metadata": {},
   "outputs": [],
   "source": []
  }
 ],
 "metadata": {
  "kernelspec": {
   "display_name": "Python 3",
   "language": "python",
   "name": "python3"
  },
  "language_info": {
   "codemirror_mode": {
    "name": "ipython",
    "version": 3
   },
   "file_extension": ".py",
   "mimetype": "text/x-python",
   "name": "python",
   "nbconvert_exporter": "python",
   "pygments_lexer": "ipython3",
   "version": "3.8.8"
  }
 },
 "nbformat": 4,
 "nbformat_minor": 5
}
